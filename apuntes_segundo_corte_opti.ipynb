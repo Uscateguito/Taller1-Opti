{
 "cells": [
  {
   "attachments": {},
   "cell_type": "markdown",
   "metadata": {},
   "source": [
    "<center><strong><font size=\"+2\" >Simulación </font></strong></center>\n",
    "\n",
    "Generación de una historia artificial\n",
    "Modelo de simulación\n",
    "Observación de esa historia para inferir características del sistema real\n",
    "\n",
    "(prueba de carga cognitiva)\n",
    "(NASATLX -D )\n",
    "\n",
    "*Entender bien número aleatorio y variable aleatoria*\n",
    "\n",
    "Número aleatorio sigue una distribución aleatoria. \n",
    "Random: Sale del método lineal de congruencias -D Usa una semilla que genera números aleatorios\n",
    "\n",
    "## Fundamentos de teoría de colas\n",
    "\n"
   ]
  },
  {
   "cell_type": "code",
   "execution_count": null,
   "metadata": {},
   "outputs": [],
   "source": []
  }
 ],
 "metadata": {
  "language_info": {
   "name": "python"
  },
  "orig_nbformat": 4
 },
 "nbformat": 4,
 "nbformat_minor": 2
}
