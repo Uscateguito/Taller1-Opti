{
 "cells": [
  {
   "attachments": {},
   "cell_type": "markdown",
   "metadata": {},
   "source": [
    "# Punto Bono"
   ]
  },
  {
   "attachments": {},
   "cell_type": "markdown",
   "metadata": {},
   "source": [
    "<hr>\n",
    "<center><strong>  Taller de Optimización y Simulaciones <br> Simulación Montecarlo <br> Puthon PuLp<br><hr> Algoritmo de Dijkstra con big M-constraint y distribución normal en sus arcos</strong></center>\n",
    "<hr>\n",
    "<center><strong> Hecho por Alejandro Uscátegui </strong></center>\n",
    "<hr>\n",
    "<center><strong> Universidad Javeriana <br> 2023 <br> Prof. Gabriel Zambrano  </strong></center>\n",
    "<hr>\n"
   ]
  },
  {
   "cell_type": "code",
   "execution_count": 1,
   "metadata": {},
   "outputs": [],
   "source": [
    "import pandas as pd\n",
    "import math\n",
    "import numpy as np\n",
    "from pulp import *\n",
    "import xlsxwriter\n",
    "import random"
   ]
  },
  {
   "cell_type": "code",
   "execution_count": 2,
   "metadata": {},
   "outputs": [],
   "source": [
    "# Cargar datos de entrada\n",
    "\n",
    "## Matriz de costosxArco\n",
    "matrizcsv = pd.read_csv(\"Matrices CSV/costosDijkstra.csv\", sep = \";\", encoding = 'utf-8', header = None)\n",
    "costosxArco = matrizcsv.to_numpy().tolist()\n",
    "costosaxArcouxiliar = matrizcsv.to_numpy().tolist()\n",
    "numeroVertices = len(costosxArco)\n",
    "# print(matrix)\n",
    "\n",
    "\n",
    "# Vector de retrasoxnodo\n",
    "vectorcsvCostosxNodo = pd.read_csv(\"Matrices CSV/costosNodos.csv\", sep = \";\", encoding = 'utf-8', header = None)\n",
    "costosxNodo = vectorcsvCostosxNodo[0].to_numpy().tolist()\n",
    "costosxNodoAuxiliar = vectorcsvCostosxNodo[0].to_numpy().tolist()\n",
    "\n",
    "# print(costosxNodo)\n",
    "\n",
    "# indicamos el nodo destino\n",
    "# Si el grafo base está iniciado desde un nodo 1, para efectos del optimizador, los nodos se cuentan\n",
    "# desde 0, en este sentido, hay que restarle 1 la nodo elegido como destino.\n",
    "nodoDestino = 32 -1\n",
    "\n",
    "# Los valores de entrada e"
   ]
  },
  {
   "cell_type": "code",
   "execution_count": 3,
   "metadata": {},
   "outputs": [],
   "source": [
    "# Creamos el problema en pulp\n",
    "\n",
    "prob_rmc=LpProblem('Dijkstra', LpMinimize) "
   ]
  },
  {
   "cell_type": "code",
   "execution_count": 4,
   "metadata": {},
   "outputs": [],
   "source": [
    "#creamos las variables de decision\n",
    "\n",
    "# Partimos por indicar las variables que tiene el grafo\n",
    "\n",
    "vertices=range(0,numeroVertices)\n",
    "\n",
    "# Arcos es una matriz de comparación, sólo para indicar las i's y j's contenidas en el problema\n",
    "\n",
    "arcos=[(i,j) for i in vertices for j in vertices]\n",
    "\n",
    "# Declaro la lista de variables que tienen que ser cambiadas\n",
    "\n",
    "var_ruta=LpVariable.dicts('ruta',(vertices,vertices), lowBound=0, cat = 'Binary')\n",
    "var_retrasoxnodo=LpVariable.dicts('retxnodo',(vertices), lowBound=0, cat = 'Binary')"
   ]
  },
  {
   "cell_type": "code",
   "execution_count": 5,
   "metadata": {},
   "outputs": [
    {
     "name": "stdout",
     "output_type": "stream",
     "text": [
      "El retardo total es: 31.284363087527204\n"
     ]
    },
    {
     "name": "stderr",
     "output_type": "stream",
     "text": [
      "C:\\Users\\admin\\AppData\\Roaming\\Python\\Python311\\site-packages\\pulp\\pulp.py:1704: UserWarning: Overwriting previously set objective.\n",
      "  warnings.warn(\"Overwriting previously set objective.\")\n"
     ]
    },
    {
     "name": "stdout",
     "output_type": "stream",
     "text": [
      "El retardo total es: 25.716857107841726\n",
      "El retardo total es: 24.031797481516495\n",
      "El retardo total es: 23.233468665927887\n",
      "El retardo total es: 22.917347855641097\n",
      "El retardo total es: 24.016808972502147\n",
      "El retardo total es: 17.38847630654679\n",
      "El retardo total es: 24.256772036087757\n",
      "El retardo total es: 29.922070699764742\n",
      "El retardo total es: 22.445453403220014\n",
      "El retardo total es: 22.603148311506434\n",
      "El retardo total es: 29.973829883258983\n",
      "El retardo total es: 29.617440734057446\n",
      "El retardo total es: 26.637193456797565\n",
      "El retardo total es: 26.0605344316002\n",
      "El retardo total es: 23.846488328258506\n",
      "El retardo total es: 26.91561002618968\n",
      "El retardo total es: 27.9884374024813\n",
      "El retardo total es: 27.199100394842567\n",
      "El retardo total es: 28.096359357612027\n",
      "El retardo total es: 27.26570155883125\n",
      "El retardo total es: 39.881208043274235\n",
      "El retardo total es: 26.774260637387222\n",
      "El retardo total es: 26.528733719720307\n",
      "El retardo total es: 25.62351791713671\n",
      "El retardo total es: 24.07220952097191\n",
      "El retardo total es: 23.038817593859225\n",
      "El retardo total es: 17.34791544909116\n",
      "El retardo total es: 29.58942585332742\n",
      "El retardo total es: 25.448281674957034\n",
      "El retardo total es: 24.922653075359303\n",
      "El retardo total es: 24.615059450665353\n",
      "El retardo total es: 20.36753576084903\n",
      "El retardo total es: 24.706406303285167\n",
      "El retardo total es: 29.671261516717042\n",
      "El retardo total es: 26.029599006389795\n",
      "El retardo total es: 24.064392209777722\n",
      "El retardo total es: 26.115966360676488\n",
      "El retardo total es: 19.10518004368125\n",
      "El retardo total es: 23.297142134921273\n",
      "El retardo total es: 22.55632362512659\n",
      "El retardo total es: 23.407820117089056\n",
      "El retardo total es: 17.338731246542004\n",
      "El retardo total es: 25.462483317782457\n",
      "El retardo total es: 24.45493488833194\n",
      "El retardo total es: 20.683434850360882\n",
      "El retardo total es: 28.233516502093167\n",
      "El retardo total es: 23.415370731240486\n",
      "El retardo total es: 23.068073393066165\n",
      "El retardo total es: 27.68791383973174\n"
     ]
    }
   ],
   "source": [
    "# Simulación montecarlo\n",
    "\n",
    "N=50 # Cantidad de simulaciones\n",
    "FO={}\n",
    "for e in range(N):\n",
    "    \n",
    "    for i in vertices:\n",
    "        for j in vertices:\n",
    "            # Esto es para la distribución normal de cada valor de los arcos con media en la matriz\n",
    "            if costosxArco[i][j] != 999:\n",
    "                # A la función le entran en orden los siguientes parámetros:\n",
    "                # Media, desviación, y cantidad de elementos de salida, como retorna una lista\n",
    "                # y queremos trabajar con un valor y no una lista, elegimos el único elemento que genera\n",
    "                # ubicándole un 0 junto a la lista.\n",
    "                costosaxArcouxiliar[i][j] = np.random.normal(costosxArco[i][j],0.3,1)[0]\n",
    "                \n",
    "    for i in vertices:\n",
    "        # Aquí la misma lógica que arriba, no hay condición if, porque quiero tomar todos los valores\n",
    "            costosxNodoAuxiliar[i] = np.random.normal(costosxNodo[i],1.5,1)[0]\n",
    "\n",
    "    # Funcion Objetivo\n",
    "\n",
    "    prob_rmc += lpSum(var_ruta[i][j]*costosaxArcouxiliar[i][j] for (i,j) in arcos) + lpSum(var_retrasoxnodo[i]*costosxNodoAuxiliar[i] for i in vertices) + costosxNodoAuxiliar[nodoDestino]\n",
    "\n",
    "    # Restricciones\n",
    "\n",
    "    # origen\n",
    "\n",
    "    prob_rmc += lpSum(var_ruta[0][j] for j in vertices) == 1\n",
    "\n",
    "    # Destino\n",
    "\n",
    "    prob_rmc += lpSum(var_ruta[i][nodoDestino] for i in vertices) == 1\n",
    "\n",
    "    # Balance\n",
    "\n",
    "    for k in vertices:\n",
    "        if k>0 and k!=nodoDestino:\n",
    "            prob_rmc += lpSum(var_ruta[i][k] for i in vertices) == lpSum(var_ruta[k][j] for j in vertices)\n",
    "            \n",
    "    # Restricción de valores válidos para retrasoxnodo con Big M\n",
    "\n",
    "    m = 50\n",
    "    for i in vertices:\n",
    "        for j in vertices:\n",
    "            prob_rmc +=  (m*var_retrasoxnodo[i]) >=  var_ruta[i][j] \n",
    "                \n",
    "\n",
    "    # Resolver\n",
    "\n",
    "    status = prob_rmc.solve()    \n",
    "    print(\"El retardo total es: \" + format(value(prob_rmc.objective)))\n",
    "    \n",
    "    FO[e]=value(prob_rmc.objective)"
   ]
  },
  {
   "cell_type": "code",
   "execution_count": 6,
   "metadata": {},
   "outputs": [
    {
     "data": {
      "text/plain": [
       "' ruta = {}\\nfor v in prob_rmc.variables():\\n    if v.value()>0:\\n        print(v.name, \"=\", v.varValue )\\n\\nprint(\"El retardo total es: \" + format(value(prob_rmc.objective))) '"
      ]
     },
     "execution_count": 6,
     "metadata": {},
     "output_type": "execute_result"
    }
   ],
   "source": [
    "\"\"\" ruta = {}\n",
    "for v in prob_rmc.variables():\n",
    "    if v.value()>0:\n",
    "        print(v.name, \"=\", v.varValue )\n",
    "\n",
    "print(\"El retardo total es: \" + format(value(prob_rmc.objective))) \"\"\""
   ]
  },
  {
   "cell_type": "code",
   "execution_count": 7,
   "metadata": {},
   "outputs": [
    {
     "name": "stderr",
     "output_type": "stream",
     "text": [
      "C:\\Users\\admin\\AppData\\Local\\Temp\\ipykernel_30788\\532026146.py:14: FutureWarning: save is not part of the public API, usage can give unexpected results and will be removed in a future version\n",
      "  writer.save()\n"
     ]
    }
   ],
   "source": [
    "# Exportamos resultados a excel\n",
    "\n",
    "writer=pd.ExcelWriter('simulacionDijkstra32.xlsx', engine='xlsxwriter')\n",
    "workbook=writer.book\n",
    "\n",
    "dataf=pd.DataFrame([[key,FO[key]] for key in FO.keys()], columns=['escenario','Retardos Totales'])\n",
    "\n",
    "dataf.to_excel(\n",
    "    writer,\n",
    "    index=False,\n",
    "    sheet_name= 'MonteCarlo'\n",
    ")\n",
    "\n",
    "writer.save()"
   ]
  }
 ],
 "metadata": {
  "kernelspec": {
   "display_name": "Python 3",
   "language": "python",
   "name": "python3"
  },
  "language_info": {
   "codemirror_mode": {
    "name": "ipython",
    "version": 3
   },
   "file_extension": ".py",
   "mimetype": "text/x-python",
   "name": "python",
   "nbconvert_exporter": "python",
   "pygments_lexer": "ipython3",
   "version": "3.11.2"
  },
  "orig_nbformat": 4
 },
 "nbformat": 4,
 "nbformat_minor": 2
}
